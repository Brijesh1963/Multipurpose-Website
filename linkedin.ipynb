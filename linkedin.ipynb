{
 "cells": [
  {
   "cell_type": "code",
   "execution_count": null,
   "metadata": {},
   "outputs": [],
   "source": [
    "\n",
    "\n",
    "\n",
    "import requests\n",
    "from bs4 import BeautifulSoup\n",
    "\n",
    "# Replace the URL with the URL of the LinkedIn profile you want to extract the email from\n",
    "url = \"https://www.linkedin.com/in/PROFILE_URL\"\n",
    "\n",
    "# Send a GET request to the LinkedIn profile page and store the response in a variable\n",
    "response = requests.get(url)\n",
    "\n",
    "# Create a BeautifulSoup object to parse the HTML content of the LinkedIn profile page\n",
    "soup = BeautifulSoup(response.content, \"html.parser\")\n",
    "\n",
    "# Find the section of the LinkedIn profile page that contains the email address\n",
    "email_section = soup.find(\"section\", {\"class\": \"pv-contact-info__contact-type ci-email\"})\n",
    "\n",
    "# Extract the email address from the email section\n",
    "email = email_section.find(\"a\").get_text()\n",
    "\n",
    "# Print the email address\n",
    "print(email)"
   ]
  }
 ],
 "metadata": {
  "language_info": {
   "name": "python"
  },
  "orig_nbformat": 4
 },
 "nbformat": 4,
 "nbformat_minor": 2
}
